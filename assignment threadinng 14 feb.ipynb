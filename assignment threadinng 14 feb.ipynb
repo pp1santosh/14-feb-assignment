{
 "cells": [
  {
   "cell_type": "code",
   "execution_count": 47,
   "id": "3bb43d1c-cf62-426f-9903-9bf348731d4d",
   "metadata": {},
   "outputs": [
    {
     "name": "stderr",
     "output_type": "stream",
     "text": [
      "INFO:root:thread no 1\n",
      "INFO:root:True\n",
      "INFO:root:0\n",
      "INFO:root:thread no 2\n",
      "INFO:root:True\n",
      "INFO:root:1\n"
     ]
    },
    {
     "name": "stdout",
     "output_type": "stream",
     "text": [
      "<_MainThread(MainThread, started 139972684732224)>\n",
      "<_MainThread(MainThread, started 139972684732224)>\n",
      "total thread 8\n"
     ]
    }
   ],
   "source": [
    "#1.sol.multithreading means running multiple task of a process or programme in parallel.\n",
    "#multithreading speeds up programme execution and reduce time.\n",
    "# import threading module is used to handle multi threading.\n",
    "import threading\n",
    "import logging\n",
    "import time\n",
    "logging.basicConfig(level=logging.INFO)\n",
    "def sq(m,n):\n",
    "    logging.info(\"thread no \"+str(m))\n",
    "    logging.info(n**2)\n",
    "for i in range(2):\n",
    "    x=threading.Thread(target=sq,args=(i+1,i,))\n",
    "    x.start()\n",
    "    print(threading.current_thread())  \n",
    "    logging.info(x.is_alive())\n",
    "    x.join()   \n",
    "print(\"total thread\" ,threading.active_count())    \n",
    "    \n",
    "  \n",
    "   \n",
    "    \n",
    "    \n",
    "    \n",
    "    \n",
    "    \n",
    "    \n",
    "    \n",
    "\n"
   ]
  },
  {
   "cell_type": "code",
   "execution_count": 67,
   "id": "37d2a0f5-eb6e-4d4e-8d89-ec47e7613b1d",
   "metadata": {},
   "outputs": [
    {
     "name": "stderr",
     "output_type": "stream",
     "text": [
      "INFO:root:thread no 1\n",
      "INFO:root:thread in rub<Thread(Thread-204 (sq1), started 139971967051328)>\n",
      "INFO:root:True\n",
      "INFO:root:0\n",
      "INFO:root:thread no 2\n",
      "INFO:root:True\n",
      "INFO:root:thread in rub<Thread(Thread-205 (sq1), started 139971967051328)>\n",
      "INFO:root:1\n",
      "INFO:root:total thread8\n"
     ]
    },
    {
     "data": {
      "text/plain": [
       "[<_MainThread(MainThread, started 139972684732224)>,\n",
       " <Thread(IOPub, started daemon 139972614202944)>,\n",
       " <Heartbeat(Heartbeat, started daemon 139972605810240)>,\n",
       " <Thread(Thread-3 (_watch_pipe_fd), started daemon 139972371801664)>,\n",
       " <Thread(Thread-4 (_watch_pipe_fd), started daemon 139972363408960)>,\n",
       " <ControlThread(Control, started daemon 139972355016256)>,\n",
       " <HistorySavingThread(IPythonHistorySavingThread, started 139972346623552)>,\n",
       " <ParentPollerUnix(Thread-2, started daemon 139972338230848)>]"
      ]
     },
     "execution_count": 67,
     "metadata": {},
     "output_type": "execute_result"
    }
   ],
   "source": [
    "#2.we import threading module to create multiple threads.\n",
    "#activecount()-it gives  total number of running threads ie lenth of list of thread.\n",
    "#currentthread()-it give current running thread in output.\n",
    "#enumerate()-it gives list of all running threads\n",
    "import threading\n",
    "import logging\n",
    "import time\n",
    "logging.basicConfig(level=logging.INFO)\n",
    "def sq1(m,n):\n",
    "    logging.info(\"thread no \"+str(m))\n",
    "    logging.info(\"thread in rub\"+str(threading.current_thread())) \n",
    "    logging.info(n**3)\n",
    "   \n",
    "if __name__==\"__main__\":   \n",
    "    for i in range(2):\n",
    "        x=threading.Thread(target=sq1,args=(i+1,i**2,))\n",
    "        x.start() \n",
    "        logging.info(x.is_alive())\n",
    "        x.join()   \n",
    "logging.info(\"total thread\" +str(threading.active_count())) \n",
    "threading.enumerate()\n",
    "\n",
    "    \n"
   ]
  },
  {
   "cell_type": "code",
   "execution_count": 8,
   "id": "75a34472-d559-4468-99da-15d57f0111b7",
   "metadata": {},
   "outputs": [
    {
     "name": "stderr",
     "output_type": "stream",
     "text": [
      "INFO:root:thread no 1\n",
      "INFO:root:True\n",
      "INFO:root:thread in rub<Thread(Thread-11 (sq3), started 140705111459392)>\n",
      "INFO:root:you are in thread and its running\n",
      "INFO:root:thread no 2\n",
      "INFO:root:True\n",
      "INFO:root:thread in rub<Thread(Thread-12 (sq3), started 140705111459392)>\n",
      "INFO:root:you are in thread and its running\n"
     ]
    }
   ],
   "source": [
    "#3.run()-this runs or execute the created thread\n",
    "#..start()-it creats new thread\n",
    "#.join()-it make oyher thread to wait untill the current thread execution is not over\n",
    "#.alive()-it returns boolen value true if any thread is running other wise false.\n",
    "import threading\n",
    "import logging\n",
    "import time\n",
    "logging.basicConfig(level=logging.INFO)\n",
    "def sq3(p):\n",
    "    logging.info(\"thread no \"+str(p))\n",
    "    logging.info(\"thread in rub\"+str(threading.current_thread())) \n",
    "    logging.info(\"you are in thread and its running\")\n",
    "   \n",
    "if __name__==\"__main__\":   \n",
    "    for i in range(2):\n",
    "        x=threading.Thread(target=sq3,args=(i+1,))\n",
    "        x.start() \n",
    "        logging.info(x.is_alive())\n",
    "        x.join()   \n",
    "\n"
   ]
  },
  {
   "cell_type": "code",
   "execution_count": 23,
   "id": "24aea30f-fb53-46c1-8cd6-b1561667d234",
   "metadata": {},
   "outputs": [
    {
     "name": "stderr",
     "output_type": "stream",
     "text": [
      "INFO:root:we are printing square list thread 1....Wed May  3 08:08:28 2023\n",
      "INFO:root:[1, 4, 9, 16, 25, 36, 49, 64, 81]\n",
      "INFO:root:we are printing cube thread 2....Wed May  3 08:08:28 2023\n",
      "INFO:root:[1, 8, 27, 64, 125, 216, 343, 512, 729]\n",
      "INFO:root:we are in main thread\n"
     ]
    }
   ],
   "source": [
    "#4 sol\n",
    "import threading\n",
    "import logging\n",
    "import time\n",
    "logging.basicConfig(level=logging.INFO)\n",
    "def square(f):\n",
    "    global lst1\n",
    "    lst1=[]\n",
    "    logging.info(\"we are printing square list thread 1....\"+str(time.asctime()))\n",
    "    for a in f:\n",
    "        lst1.append(a**2)\n",
    "    logging.info(lst1)    \n",
    "        \n",
    "def cube(k):\n",
    "    global rt\n",
    "    rt=[]\n",
    "    logging.info(\"we are printing cube thread 2....\" +str(time.asctime()))\n",
    "    for s in k:\n",
    "        rt.append(s**3)\n",
    "    logging.info(rt) \n",
    "    \n",
    "if __name__==\"__main__\":\n",
    "    t1=threading.Thread(target=square,args=([1,2,3,4,5,6,7,8,9],))\n",
    "    t2=threading.Thread(target=cube,args=([1,2,3,4,5,6,7,8,9],))\n",
    "    t1.start()\n",
    "    t1.join()\n",
    "    t2.start()\n",
    "    t2.join()\n",
    "logging.info(\"we are in main thread\")    \n",
    "    \n",
    "                        \n",
    "    \n",
    "\n",
    "    "
   ]
  },
  {
   "cell_type": "code",
   "execution_count": null,
   "id": "eb76dc97-d8de-4eb9-ba53-1f142da5e808",
   "metadata": {},
   "outputs": [],
   "source": [
    "#5.advantage of multithreading is it saves time of execution of our code\n",
    "#it helps in proper and optimum utilization of memory of single core processor\n",
    "#disadvantage\n",
    "#.Difficulty of writing code. and increases complexity\n",
    "#difficulty in debuggibg code\n",
    "#it do not utilizes all core processor simultaneously.which we can do i\n"
   ]
  },
  {
   "cell_type": "code",
   "execution_count": 33,
   "id": "094fb5c8-d99a-438f-9cfc-415326311ba7",
   "metadata": {},
   "outputs": [
    {
     "name": "stderr",
     "output_type": "stream",
     "text": [
      "Exception in thread Thread-43 (inc):\n",
      "Traceback (most recent call last):\n",
      "  File \"/opt/conda/lib/python3.10/threading.py\", line 1016, in _bootstrap_inner\n",
      "    self.run()\n",
      "  File \"/opt/conda/lib/python3.10/threading.py\", line 953, in run\n",
      "    self._target(*self._args, **self._kwargs)\n",
      "  File \"/tmp/ipykernel_77/2424949478.py\", line 6, in inc\n",
      "AttributeError: __enter__\n",
      "Exception in thread Thread-44 (inc):\n",
      "Traceback (most recent call last):\n",
      "  File \"/opt/conda/lib/python3.10/threading.py\", line 1016, in _bootstrap_inner\n",
      "    self.run()\n",
      "  File \"/opt/conda/lib/python3.10/threading.py\", line 953, in run\n",
      "    self._target(*self._args, **self._kwargs)\n",
      "  File \"/tmp/ipykernel_77/2424949478.py\", line 6, in inc\n",
      "AttributeError: __enter__\n"
     ]
    }
   ],
   "source": [
    "#6.race condition-when two or nore thread shares same variable data their is a chance to get wrong output,this is called race condition.\n",
    "'''#6.Dead lock-Deadlocks can occur when two (or more) threads are blocking each other’s progress —\n",
    "for example, thread_1 is waiting for the release of lock_2 held by thread_2 upon which it will release its lock — lock_1, \n",
    "but the same is true for thread_2 — it will release lock_2 only upon the release of lock_1 by thread_1.'''\n",
    "\n",
    "\n"
   ]
  }
 ],
 "metadata": {
  "kernelspec": {
   "display_name": "Python 3 (ipykernel)",
   "language": "python",
   "name": "python3"
  },
  "language_info": {
   "codemirror_mode": {
    "name": "ipython",
    "version": 3
   },
   "file_extension": ".py",
   "mimetype": "text/x-python",
   "name": "python",
   "nbconvert_exporter": "python",
   "pygments_lexer": "ipython3",
   "version": "3.10.8"
  }
 },
 "nbformat": 4,
 "nbformat_minor": 5
}
